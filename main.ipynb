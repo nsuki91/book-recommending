{
 "cells": [
  {
   "cell_type": "markdown",
   "metadata": {},
   "source": [
    "# İçerik tabanlı kitap tavsiye NLP yaklaşımı"
   ]
  },
  {
   "cell_type": "code",
   "execution_count": 1,
   "metadata": {
    "scrolled": false
   },
   "outputs": [
    {
     "data": {
      "text/html": [
       "<div>\n",
       "<style scoped>\n",
       "    .dataframe tbody tr th:only-of-type {\n",
       "        vertical-align: middle;\n",
       "    }\n",
       "\n",
       "    .dataframe tbody tr th {\n",
       "        vertical-align: top;\n",
       "    }\n",
       "\n",
       "    .dataframe thead th {\n",
       "        text-align: right;\n",
       "    }\n",
       "</style>\n",
       "<table border=\"1\" class=\"dataframe\">\n",
       "  <thead>\n",
       "    <tr style=\"text-align: right;\">\n",
       "      <th></th>\n",
       "      <th>Unnamed: 0</th>\n",
       "      <th>başlık</th>\n",
       "      <th>tür</th>\n",
       "      <th>yazar</th>\n",
       "      <th>konu</th>\n",
       "    </tr>\n",
       "  </thead>\n",
       "  <tbody>\n",
       "    <tr>\n",
       "      <th>0</th>\n",
       "      <td>1</td>\n",
       "      <td>Anne Karenina</td>\n",
       "      <td>Aşk, Dram</td>\n",
       "      <td>Tolstoy</td>\n",
       "      <td>Aşkı yüzlerce yazar tarafından ele alınmış bir...</td>\n",
       "    </tr>\n",
       "    <tr>\n",
       "      <th>1</th>\n",
       "      <td>2</td>\n",
       "      <td>Aşk ve Gurur</td>\n",
       "      <td>Aşk, Dram</td>\n",
       "      <td>Jane Austen</td>\n",
       "      <td>Orta halli bir ailenin zeki ve neşeli kızı ile...</td>\n",
       "    </tr>\n",
       "    <tr>\n",
       "      <th>2</th>\n",
       "      <td>3</td>\n",
       "      <td>Yabancı</td>\n",
       "      <td>Felsefe, Eleştiri</td>\n",
       "      <td>Albert Camus</td>\n",
       "      <td>Kitabın olay örgüsünde her şey çok kısa bir za...</td>\n",
       "    </tr>\n",
       "    <tr>\n",
       "      <th>3</th>\n",
       "      <td>4</td>\n",
       "      <td>Böyle Buyurdu Zerdüşt</td>\n",
       "      <td>Felsefe, Eleştiri</td>\n",
       "      <td>Nietzsche</td>\n",
       "      <td>dâhi Alman filozof Friedrich Nietzsche'nin fel...</td>\n",
       "    </tr>\n",
       "    <tr>\n",
       "      <th>4</th>\n",
       "      <td>5</td>\n",
       "      <td>Küçük Prens</td>\n",
       "      <td>Eleştiri, Kurgu</td>\n",
       "      <td>Antoine de Saint-Exupéry</td>\n",
       "      <td>Gezegenindeki çiçeğiyle pek anlaşamadığı için ...</td>\n",
       "    </tr>\n",
       "  </tbody>\n",
       "</table>\n",
       "</div>"
      ],
      "text/plain": [
       "   Unnamed: 0                 başlık                tür  \\\n",
       "0           1          Anne Karenina          Aşk, Dram   \n",
       "1           2           Aşk ve Gurur          Aşk, Dram   \n",
       "2           3                Yabancı  Felsefe, Eleştiri   \n",
       "3           4  Böyle Buyurdu Zerdüşt  Felsefe, Eleştiri   \n",
       "4           5            Küçük Prens    Eleştiri, Kurgu   \n",
       "\n",
       "                      yazar                                               konu  \n",
       "0                   Tolstoy  Aşkı yüzlerce yazar tarafından ele alınmış bir...  \n",
       "1               Jane Austen  Orta halli bir ailenin zeki ve neşeli kızı ile...  \n",
       "2              Albert Camus  Kitabın olay örgüsünde her şey çok kısa bir za...  \n",
       "3                 Nietzsche  dâhi Alman filozof Friedrich Nietzsche'nin fel...  \n",
       "4  Antoine de Saint-Exupéry  Gezegenindeki çiçeğiyle pek anlaşamadığı için ...  "
      ]
     },
     "execution_count": 1,
     "metadata": {},
     "output_type": "execute_result"
    }
   ],
   "source": [
    "import pandas as pd\n",
    "from rake_nltk import Rake\n",
    "import numpy as np\n",
    "from sklearn.metrics.pairwise import cosine_similarity\n",
    "from sklearn.feature_extraction.text import CountVectorizer\n",
    "\n",
    "df = pd.read_csv('data.csv')\n",
    "df.head()"
   ]
  },
  {
   "cell_type": "code",
   "execution_count": 2,
   "metadata": {
    "scrolled": true
   },
   "outputs": [
    {
     "data": {
      "text/plain": [
       "(20, 5)"
      ]
     },
     "execution_count": 2,
     "metadata": {},
     "output_type": "execute_result"
    }
   ],
   "source": [
    "df.shape"
   ]
  },
  {
   "cell_type": "code",
   "execution_count": 3,
   "metadata": {},
   "outputs": [
    {
     "data": {
      "text/html": [
       "<div>\n",
       "<style scoped>\n",
       "    .dataframe tbody tr th:only-of-type {\n",
       "        vertical-align: middle;\n",
       "    }\n",
       "\n",
       "    .dataframe tbody tr th {\n",
       "        vertical-align: top;\n",
       "    }\n",
       "\n",
       "    .dataframe thead th {\n",
       "        text-align: right;\n",
       "    }\n",
       "</style>\n",
       "<table border=\"1\" class=\"dataframe\">\n",
       "  <thead>\n",
       "    <tr style=\"text-align: right;\">\n",
       "      <th></th>\n",
       "      <th>başlık</th>\n",
       "      <th>tür</th>\n",
       "      <th>yazar</th>\n",
       "      <th>konu</th>\n",
       "    </tr>\n",
       "  </thead>\n",
       "  <tbody>\n",
       "    <tr>\n",
       "      <th>0</th>\n",
       "      <td>Anne Karenina</td>\n",
       "      <td>Aşk, Dram</td>\n",
       "      <td>Tolstoy</td>\n",
       "      <td>Aşkı yüzlerce yazar tarafından ele alınmış bir...</td>\n",
       "    </tr>\n",
       "    <tr>\n",
       "      <th>1</th>\n",
       "      <td>Aşk ve Gurur</td>\n",
       "      <td>Aşk, Dram</td>\n",
       "      <td>Jane Austen</td>\n",
       "      <td>Orta halli bir ailenin zeki ve neşeli kızı ile...</td>\n",
       "    </tr>\n",
       "    <tr>\n",
       "      <th>2</th>\n",
       "      <td>Yabancı</td>\n",
       "      <td>Felsefe, Eleştiri</td>\n",
       "      <td>Albert Camus</td>\n",
       "      <td>Kitabın olay örgüsünde her şey çok kısa bir za...</td>\n",
       "    </tr>\n",
       "    <tr>\n",
       "      <th>3</th>\n",
       "      <td>Böyle Buyurdu Zerdüşt</td>\n",
       "      <td>Felsefe, Eleştiri</td>\n",
       "      <td>Nietzsche</td>\n",
       "      <td>dâhi Alman filozof Friedrich Nietzsche'nin fel...</td>\n",
       "    </tr>\n",
       "    <tr>\n",
       "      <th>4</th>\n",
       "      <td>Küçük Prens</td>\n",
       "      <td>Eleştiri, Kurgu</td>\n",
       "      <td>Antoine de Saint-Exupéry</td>\n",
       "      <td>Gezegenindeki çiçeğiyle pek anlaşamadığı için ...</td>\n",
       "    </tr>\n",
       "  </tbody>\n",
       "</table>\n",
       "</div>"
      ],
      "text/plain": [
       "                  başlık                tür                     yazar  \\\n",
       "0          Anne Karenina          Aşk, Dram                   Tolstoy   \n",
       "1           Aşk ve Gurur          Aşk, Dram               Jane Austen   \n",
       "2                Yabancı  Felsefe, Eleştiri              Albert Camus   \n",
       "3  Böyle Buyurdu Zerdüşt  Felsefe, Eleştiri                 Nietzsche   \n",
       "4            Küçük Prens    Eleştiri, Kurgu  Antoine de Saint-Exupéry   \n",
       "\n",
       "                                                konu  \n",
       "0  Aşkı yüzlerce yazar tarafından ele alınmış bir...  \n",
       "1  Orta halli bir ailenin zeki ve neşeli kızı ile...  \n",
       "2  Kitabın olay örgüsünde her şey çok kısa bir za...  \n",
       "3  dâhi Alman filozof Friedrich Nietzsche'nin fel...  \n",
       "4  Gezegenindeki çiçeğiyle pek anlaşamadığı için ...  "
      ]
     },
     "execution_count": 3,
     "metadata": {},
     "output_type": "execute_result"
    }
   ],
   "source": [
    "df = df[['başlık','tür','yazar','konu']]\n",
    "df.head()"
   ]
  },
  {
   "cell_type": "code",
   "execution_count": 4,
   "metadata": {},
   "outputs": [
    {
     "data": {
      "text/plain": [
       "(20, 4)"
      ]
     },
     "execution_count": 4,
     "metadata": {},
     "output_type": "execute_result"
    }
   ],
   "source": [
    "df.shape"
   ]
  },
  {
   "cell_type": "code",
   "execution_count": 5,
   "metadata": {},
   "outputs": [],
   "source": [
    "df['tür'] = df['tür'].map(lambda x: x.lower().split(','))\n",
    "df['yazar'] = df['yazar'].map(lambda x: x.split(' '))\n",
    "\n",
    "for index, row in df.iterrows():\n",
    "    row['yazar'] = ''.join(row['yazar']).lower()"
   ]
  },
  {
   "cell_type": "code",
   "execution_count": 6,
   "metadata": {},
   "outputs": [],
   "source": [
    "df['anahtar'] = \"\"\n",
    "\n",
    "for index, row in df.iterrows():\n",
    "    konu = row['konu']\n",
    "    \n",
    "    r = Rake()\n",
    "\n",
    "    r.extract_keywords_from_text(konu)\n",
    "    anahtar_skor = r.get_word_degrees()\n",
    "    \n",
    "    row['anahtar'] = list(anahtar_skor.keys())\n",
    "\n",
    "df.drop(columns = ['konu'], inplace = True)"
   ]
  },
  {
   "cell_type": "code",
   "execution_count": 7,
   "metadata": {},
   "outputs": [
    {
     "data": {
      "text/html": [
       "<div>\n",
       "<style scoped>\n",
       "    .dataframe tbody tr th:only-of-type {\n",
       "        vertical-align: middle;\n",
       "    }\n",
       "\n",
       "    .dataframe tbody tr th {\n",
       "        vertical-align: top;\n",
       "    }\n",
       "\n",
       "    .dataframe thead th {\n",
       "        text-align: right;\n",
       "    }\n",
       "</style>\n",
       "<table border=\"1\" class=\"dataframe\">\n",
       "  <thead>\n",
       "    <tr style=\"text-align: right;\">\n",
       "      <th></th>\n",
       "      <th>tür</th>\n",
       "      <th>yazar</th>\n",
       "      <th>anahtar</th>\n",
       "    </tr>\n",
       "    <tr>\n",
       "      <th>başlık</th>\n",
       "      <th></th>\n",
       "      <th></th>\n",
       "      <th></th>\n",
       "    </tr>\n",
       "  </thead>\n",
       "  <tbody>\n",
       "    <tr>\n",
       "      <th>Anne Karenina</th>\n",
       "      <td>[aşk,  dram]</td>\n",
       "      <td>tolstoy</td>\n",
       "      <td>[19, yüzyıldaki, rus, aristokrasisinde, yaşana...</td>\n",
       "    </tr>\n",
       "    <tr>\n",
       "      <th>Aşk ve Gurur</th>\n",
       "      <td>[aşk,  dram]</td>\n",
       "      <td>janeausten</td>\n",
       "      <td>[mağrur, olmasının, yanı, sıra, son, derece, d...</td>\n",
       "    </tr>\n",
       "    <tr>\n",
       "      <th>Yabancı</th>\n",
       "      <td>[felsefe,  eleştiri]</td>\n",
       "      <td>albertcamus</td>\n",
       "      <td>[kendisini, adım, ölüme, götüren, süreci, tama...</td>\n",
       "    </tr>\n",
       "    <tr>\n",
       "      <th>Böyle Buyurdu Zerdüşt</th>\n",
       "      <td>[felsefe,  eleştiri]</td>\n",
       "      <td>nietzsche</td>\n",
       "      <td>[dâhi, alman, filozof, friedrich, nietzsche, k...</td>\n",
       "    </tr>\n",
       "    <tr>\n",
       "      <th>Küçük Prens</th>\n",
       "      <td>[eleştiri,  kurgu]</td>\n",
       "      <td>antoinedesaint-exupéry</td>\n",
       "      <td>[kimdir, küçük, prens, neler, öğrenmiştir, gez...</td>\n",
       "    </tr>\n",
       "  </tbody>\n",
       "</table>\n",
       "</div>"
      ],
      "text/plain": [
       "                                        tür                   yazar  \\\n",
       "başlık                                                                \n",
       "Anne Karenina                  [aşk,  dram]                 tolstoy   \n",
       "Aşk ve Gurur                   [aşk,  dram]              janeausten   \n",
       "Yabancı                [felsefe,  eleştiri]             albertcamus   \n",
       "Böyle Buyurdu Zerdüşt  [felsefe,  eleştiri]               nietzsche   \n",
       "Küçük Prens              [eleştiri,  kurgu]  antoinedesaint-exupéry   \n",
       "\n",
       "                                                                 anahtar  \n",
       "başlık                                                                    \n",
       "Anne Karenina          [19, yüzyıldaki, rus, aristokrasisinde, yaşana...  \n",
       "Aşk ve Gurur           [mağrur, olmasının, yanı, sıra, son, derece, d...  \n",
       "Yabancı                [kendisini, adım, ölüme, götüren, süreci, tama...  \n",
       "Böyle Buyurdu Zerdüşt  [dâhi, alman, filozof, friedrich, nietzsche, k...  \n",
       "Küçük Prens            [kimdir, küçük, prens, neler, öğrenmiştir, gez...  "
      ]
     },
     "execution_count": 7,
     "metadata": {},
     "output_type": "execute_result"
    }
   ],
   "source": [
    "df.set_index('başlık', inplace = True)\n",
    "df.head()"
   ]
  },
  {
   "cell_type": "code",
   "execution_count": 8,
   "metadata": {},
   "outputs": [],
   "source": [
    "df['anahtarlar'] = ''\n",
    "columns = df.columns\n",
    "for index, row in df.iterrows():\n",
    "    words = ''\n",
    "    for col in columns:\n",
    "        if col != 'yazar':\n",
    "            words = words + ' '.join(row[col])+ ' '\n",
    "        else:\n",
    "            words = words + row[col]+ ' '\n",
    "    row['anahtarlar'] = words\n",
    "    \n",
    "df.drop(columns = [col for col in df.columns if col!= 'anahtarlar'], inplace = True)"
   ]
  },
  {
   "cell_type": "code",
   "execution_count": 9,
   "metadata": {},
   "outputs": [
    {
     "data": {
      "text/html": [
       "<div>\n",
       "<style scoped>\n",
       "    .dataframe tbody tr th:only-of-type {\n",
       "        vertical-align: middle;\n",
       "    }\n",
       "\n",
       "    .dataframe tbody tr th {\n",
       "        vertical-align: top;\n",
       "    }\n",
       "\n",
       "    .dataframe thead th {\n",
       "        text-align: right;\n",
       "    }\n",
       "</style>\n",
       "<table border=\"1\" class=\"dataframe\">\n",
       "  <thead>\n",
       "    <tr style=\"text-align: right;\">\n",
       "      <th></th>\n",
       "      <th>anahtarlar</th>\n",
       "    </tr>\n",
       "    <tr>\n",
       "      <th>başlık</th>\n",
       "      <th></th>\n",
       "    </tr>\n",
       "  </thead>\n",
       "  <tbody>\n",
       "    <tr>\n",
       "      <th>Anne Karenina</th>\n",
       "      <td>aşk  dram tolstoy 19 yüzyıldaki rus aristokras...</td>\n",
       "    </tr>\n",
       "    <tr>\n",
       "      <th>Aşk ve Gurur</th>\n",
       "      <td>aşk  dram janeausten mağrur olmasının yanı sır...</td>\n",
       "    </tr>\n",
       "    <tr>\n",
       "      <th>Yabancı</th>\n",
       "      <td>felsefe  eleştiri albertcamus kendisini adım ö...</td>\n",
       "    </tr>\n",
       "    <tr>\n",
       "      <th>Böyle Buyurdu Zerdüşt</th>\n",
       "      <td>felsefe  eleştiri nietzsche dâhi alman filozof...</td>\n",
       "    </tr>\n",
       "    <tr>\n",
       "      <th>Küçük Prens</th>\n",
       "      <td>eleştiri  kurgu antoinedesaint-exupéry kimdir ...</td>\n",
       "    </tr>\n",
       "  </tbody>\n",
       "</table>\n",
       "</div>"
      ],
      "text/plain": [
       "                                                              anahtarlar\n",
       "başlık                                                                  \n",
       "Anne Karenina          aşk  dram tolstoy 19 yüzyıldaki rus aristokras...\n",
       "Aşk ve Gurur           aşk  dram janeausten mağrur olmasının yanı sır...\n",
       "Yabancı                felsefe  eleştiri albertcamus kendisini adım ö...\n",
       "Böyle Buyurdu Zerdüşt  felsefe  eleştiri nietzsche dâhi alman filozof...\n",
       "Küçük Prens            eleştiri  kurgu antoinedesaint-exupéry kimdir ..."
      ]
     },
     "execution_count": 9,
     "metadata": {},
     "output_type": "execute_result"
    }
   ],
   "source": [
    "df.head()"
   ]
  },
  {
   "cell_type": "code",
   "execution_count": 10,
   "metadata": {},
   "outputs": [
    {
     "data": {
      "text/plain": [
       "0            Anne Karenina\n",
       "1             Aşk ve Gurur\n",
       "2                  Yabancı\n",
       "3    Böyle Buyurdu Zerdüşt\n",
       "4              Küçük Prens\n",
       "Name: başlık, dtype: object"
      ]
     },
     "execution_count": 10,
     "metadata": {},
     "output_type": "execute_result"
    }
   ],
   "source": [
    "count = CountVectorizer()\n",
    "count_matrix = count.fit_transform(df['anahtarlar'])\n",
    "\n",
    "indices = pd.Series(df.index)\n",
    "indices[:5]"
   ]
  },
  {
   "cell_type": "code",
   "execution_count": 11,
   "metadata": {},
   "outputs": [],
   "source": [
    "cosine_sim = cosine_similarity(count_matrix, count_matrix)"
   ]
  },
  {
   "cell_type": "code",
   "execution_count": 16,
   "metadata": {},
   "outputs": [],
   "source": [
    "def tavsiye(baslik, cosine_sim = cosine_sim):\n",
    "    tavsiyeler = []\n",
    "    idx = indices[indices == baslik].index[0]\n",
    "    skorlar = pd.Series(cosine_sim[idx]).sort_values(ascending = False)\n",
    "    print(skorlar)\n",
    "    top10 = list(skorlar.iloc[1:6].index)\n",
    "    for i in top10:\n",
    "        tavsiyeler.append(list(df.index)[i])\n",
    "    return tavsiyeler"
   ]
  },
  {
   "cell_type": "code",
   "execution_count": 20,
   "metadata": {},
   "outputs": [
    {
     "name": "stdout",
     "output_type": "stream",
     "text": [
      "11    1.000000\n",
      "12    0.204465\n",
      "6     0.180540\n",
      "4     0.120096\n",
      "13    0.118864\n",
      "10    0.108786\n",
      "3     0.099627\n",
      "14    0.083624\n",
      "2     0.081786\n",
      "19    0.080911\n",
      "15    0.068279\n",
      "17    0.057213\n",
      "0     0.046225\n",
      "7     0.044412\n",
      "1     0.038837\n",
      "8     0.034401\n",
      "18    0.033884\n",
      "9     0.031404\n",
      "16    0.025863\n",
      "5     0.025008\n",
      "dtype: float64\n"
     ]
    },
    {
     "data": {
      "text/plain": [
       "['Otomatik Portakal',\n",
       " '1984',\n",
       " 'Küçük Prens',\n",
       " 'Cesur Yeni Dünya',\n",
       " 'Fahrenheit 451']"
      ]
     },
     "execution_count": 20,
     "metadata": {},
     "output_type": "execute_result"
    }
   ],
   "source": [
    "tavsiye('Hayvan Çiftliği')"
   ]
  },
  {
   "cell_type": "code",
   "execution_count": 111,
   "metadata": {},
   "outputs": [],
   "source": [
    "def tavsiye_cift(birinci, ikinci, cosine_sim = cosine_sim):\n",
    "    tavsiyeler = []\n",
    "    idx = indices[indices == birinci].index[0]\n",
    "    skorlar1 = pd.Series(cosine_sim[idx]).sort_values(ascending = False)\n",
    "    s1 = skorlar1.iloc[1:,]\n",
    "    idx = indices[indices == ikinci].index[0]\n",
    "    skorlar2 = pd.Series(cosine_sim[idx]).sort_values(ascending = False)\n",
    "    s2 = skorlar2.iloc[1:,]\n",
    "    sonuc = s1.combine(s2, func=(lambda x1, x2: (x1 + x2)/2)).sort_values(ascending = False)\n",
    "    top5 = list(sonuc.iloc[1:6].index)\n",
    "    for i in top5:\n",
    "        tavsiyeler.append(list(df.index)[i])\n",
    "    x=0\n",
    "    print(\"{} ve {} kitapları baz alınarak yapılan ilk 5 tavsiye:\".format(birinci,ikinci))\n",
    "    for i in tavsiyeler:\n",
    "        x+=1\n",
    "        print(\"{}. {}\".format(x,i))"
   ]
  },
  {
   "cell_type": "code",
   "execution_count": 113,
   "metadata": {},
   "outputs": [
    {
     "name": "stdout",
     "output_type": "stream",
     "text": [
      "Siddhartha ve Cesur Yeni Dünya kitapları baz alınarak yapılan ilk 5 tavsiye:\n",
      "1. Fahrenheit 451\n",
      "2. Suç ve Ceza\n",
      "3. Dönüşüm\n",
      "4. Sineklerin Tanrısı\n",
      "5. Böyle Buyurdu Zerdüşt\n"
     ]
    }
   ],
   "source": [
    "tavsiye_cift(\"Siddhartha\",\"Cesur Yeni Dünya\")"
   ]
  },
  {
   "cell_type": "code",
   "execution_count": null,
   "metadata": {},
   "outputs": [],
   "source": []
  }
 ],
 "metadata": {
  "kernelspec": {
   "display_name": "Python 3",
   "language": "python",
   "name": "python3"
  },
  "language_info": {
   "codemirror_mode": {
    "name": "ipython",
    "version": 3
   },
   "file_extension": ".py",
   "mimetype": "text/x-python",
   "name": "python",
   "nbconvert_exporter": "python",
   "pygments_lexer": "ipython3",
   "version": "3.6.8"
  }
 },
 "nbformat": 4,
 "nbformat_minor": 2
}
